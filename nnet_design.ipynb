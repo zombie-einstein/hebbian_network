{
 "cells": [
  {
   "cell_type": "markdown",
   "metadata": {},
   "source": [
    "## Hebbian Neural Network "
   ]
  },
  {
   "cell_type": "code",
   "execution_count": 1,
   "metadata": {
    "collapsed": true
   },
   "outputs": [],
   "source": [
    "import numpy as np\n",
    "import network as nt\n",
    "import matplotlib.pyplot as plt"
   ]
  },
  {
   "cell_type": "code",
   "execution_count": 2,
   "metadata": {
    "collapsed": true
   },
   "outputs": [],
   "source": [
    "from scipy.special import expit as sig # Sigmoid squashing function"
   ]
  },
  {
   "cell_type": "markdown",
   "metadata": {},
   "source": [
    "### System Parameters\n",
    "\n",
    "* Input Layer Size (i.e. number of input neurons)\n",
    "* Hidden Layer Size (i.e. number of hidden neurons)\n",
    "* Output Layer Size (only used for extracting results based on states of connected hidden layers\n",
    "* Learn rate: Rate at which we adjust a neurons weight"
   ]
  },
  {
   "cell_type": "code",
   "execution_count": 3,
   "metadata": {
    "collapsed": true
   },
   "outputs": [],
   "source": [
    "IPT_SIZE = 20  \n",
    "HDN_SIZE = 10 \n",
    "OUT_SIZE = 4  \n",
    "LEARN = 0.01"
   ]
  },
  {
   "cell_type": "markdown",
   "metadata": {},
   "source": [
    "### State Vectors\n",
    "Current nueron activation states"
   ]
  },
  {
   "cell_type": "code",
   "execution_count": 4,
   "metadata": {
    "collapsed": true
   },
   "outputs": [],
   "source": [
    "v_i = np.random.rand(IPT_SIZE,1) # Input vector\n",
    "v_n = np.random.rand(HDN_SIZE,1) # Hidden layer neurons"
   ]
  },
  {
   "cell_type": "markdown",
   "metadata": {},
   "source": [
    "### Time-dependent Weights\n",
    "- $\\hat{W}_{i}(t)$: Input to hidden layer weights"
   ]
  },
  {
   "cell_type": "code",
   "execution_count": 5,
   "metadata": {
    "collapsed": true
   },
   "outputs": [],
   "source": [
    "W_i = np.random.randint(2,size=(HDN_SIZE,IPT_SIZE))"
   ]
  },
  {
   "cell_type": "markdown",
   "metadata": {},
   "source": [
    "* $\\hat{W}_{h}(t)$: Intra-hidden neuron weights"
   ]
  },
  {
   "cell_type": "code",
   "execution_count": 6,
   "metadata": {
    "collapsed": true
   },
   "outputs": [],
   "source": [
    "W_h = np.random.rand(HDN_SIZE,HDN_SIZE) # Hidden layer internal weights"
   ]
  },
  {
   "cell_type": "markdown",
   "metadata": {},
   "source": [
    "### Time-independent Structure\n",
    "* $\\hat{S}_{i}$: Structural time-independent input to hidden weights"
   ]
  },
  {
   "cell_type": "code",
   "execution_count": 7,
   "metadata": {
    "collapsed": true
   },
   "outputs": [],
   "source": [
    "S_i = np.random.randint(2, size=(HDN_SIZE,IPT_SIZE)) # Input to hidden structure (Time indipendent)"
   ]
  },
  {
   "cell_type": "markdown",
   "metadata": {},
   "source": [
    "* $\\hat{S}_h$: Time-independent intra-hidden neuron weight"
   ]
  },
  {
   "cell_type": "code",
   "execution_count": 8,
   "metadata": {
    "collapsed": true
   },
   "outputs": [],
   "source": [
    "S_h = np.random.randint(2, size=(HDN_SIZE,HDN_SIZE)) # Hiddden layer structure (Time indipendent)"
   ]
  },
  {
   "cell_type": "markdown",
   "metadata": {},
   "source": [
    "* $\\hat{S}_o$: Time-independent hidden to output structure"
   ]
  },
  {
   "cell_type": "code",
   "execution_count": 9,
   "metadata": {
    "collapsed": true
   },
   "outputs": [],
   "source": [
    "S_o = np.random.randint(2, size=(OUT_SIZE,HDN_SIZE)) # Hidden to output structue (Time indipendent)"
   ]
  },
  {
   "cell_type": "markdown",
   "metadata": {},
   "source": [
    "### Update Algorithm\n",
    "At each time step $t$:\n",
    "* State at next step will be: $v_{i}(t+1) =\\text{tanh}\\left(\\hat{S}_{i}\\star\\hat{W_i}(t)\\middle|\\hat{S}_{h}\\star\\hat{W_h}(t)\\right)(v_{i}(t)|v_{h}(t))$\n",
    "* Activity change is then: $\\text{d}v = v_{i}(t+1)-v(t)$\n",
    "* Adjust weights based on correlation of $\\text{d}v$ giving\n",
    "\n",
    "$W_{h}(t+1)=W_{h}(t)+\\text{tanh}(L\\text{d}v\\text{d}v^{T})$"
   ]
  },
  {
   "cell_type": "code",
   "execution_count": 10,
   "metadata": {
    "collapsed": true
   },
   "outputs": [],
   "source": [
    "def update():\n",
    "    \"One update step of network, update outputs and weightings\"\n",
    "    global W_i,W_h,S_i,S_h,v_n\n",
    "    o = np.tanh(np.multiply(np.concatenate((W_i,W_h),axis=1),np.concatenate((S_i,S_h),axis=1)).dot(np.concatenate((v_i,v_n),axis=0)))\n",
    "    dt = o-v_n  # Change in nueron output\n",
    "    W_h = W_h+np.tanh(LEARN*np.tensordot(dt,dt)) # Update weights of hidden layer \n",
    "    v_n = o"
   ]
  },
  {
   "cell_type": "markdown",
   "metadata": {},
   "source": [
    "### Output\n",
    "We read output base on output structure using:\n",
    "\n",
    "$v_{o}=\\text{sig}\\left(\\hat{S}_{o}v_{h}(t)\\right)$"
   ]
  },
  {
   "cell_type": "code",
   "execution_count": 11,
   "metadata": {
    "collapsed": true
   },
   "outputs": [],
   "source": [
    "def read_outputs():\n",
    "    return sig(S_o.dot(v_n))"
   ]
  },
  {
   "cell_type": "markdown",
   "metadata": {},
   "source": [
    "#### Example using class from module"
   ]
  },
  {
   "cell_type": "code",
   "execution_count": 12,
   "metadata": {
    "collapsed": true
   },
   "outputs": [],
   "source": [
    "C = nt.NeuralNet(0.01,S_i,S_h,S_o)"
   ]
  },
  {
   "cell_type": "code",
   "execution_count": 13,
   "metadata": {
    "collapsed": true
   },
   "outputs": [],
   "source": [
    "C.vi = np.random.rand(20).reshape(1,20).T"
   ]
  },
  {
   "cell_type": "code",
   "execution_count": 14,
   "metadata": {
    "collapsed": true
   },
   "outputs": [],
   "source": [
    "To = list()\n",
    "Tw = list()\n",
    "\n",
    "C.v_i = np.random.rand(20).reshape(1,20).T\n",
    "\n",
    "for i in xrange(50):\n",
    "    To.append(np.copy(C.read_outputs()))\n",
    "    Tw.append(np.copy(C.v_h))\n",
    "    C.update()\n",
    "    \n",
    "C.v_i = np.random.rand(20).reshape(1,20).T\n",
    "    \n",
    "for i in xrange(50):\n",
    "    To.append(np.copy(C.read_outputs()))\n",
    "    Tw.append(np.copy(C.v_h))\n",
    "    C.update()\n",
    "    \n",
    "Vo = np.rollaxis(np.dstack(To),2)\n",
    "Vw = np.rollaxis(np.dstack(Tw),2)"
   ]
  },
  {
   "cell_type": "code",
   "execution_count": 15,
   "metadata": {},
   "outputs": [
    {
     "data": {
      "image/png": "[encoded data removed]",
      "text/plain": [
       "<matplotlib.figure.Figure at 0x7f0910f332d0>"
      ]
     },
     "metadata": {},
     "output_type": "display_data"
    }
   ],
   "source": [
    "plt.plot(Vw[1:,:,0])\n",
    "plt.show()"
   ]
  },
  {
   "cell_type": "code",
   "execution_count": 16,
   "metadata": {
    "scrolled": false
   },
   "outputs": [
    {
     "data": {
      "image/png": "[encoded data removed]",
      "text/plain": [
       "<matplotlib.figure.Figure at 0x7f090eedf250>"
      ]
     },
     "metadata": {},
     "output_type": "display_data"
    }
   ],
   "source": [
    "plt.plot(Vo[1:,:,0])\n",
    "plt.show()"
   ]
  },
  {
   "cell_type": "code",
   "execution_count": 17,
   "metadata": {},
   "outputs": [
    {
     "data": {
      "text/plain": [
       "array([[1, 0, 1, 0, 0, 1, 1, 0, 0, 1],\n",
       "       [1, 1, 1, 1, 1, 0, 0, 0, 1, 0],\n",
       "       [1, 0, 0, 1, 1, 1, 0, 0, 1, 0],\n",
       "       [1, 1, 0, 1, 0, 0, 1, 1, 0, 1],\n",
       "       [1, 1, 1, 1, 0, 0, 0, 1, 1, 0],\n",
       "       [0, 0, 0, 0, 0, 0, 0, 1, 0, 0],\n",
       "       [0, 0, 0, 1, 0, 0, 1, 1, 1, 1],\n",
       "       [0, 0, 0, 1, 1, 1, 0, 1, 1, 0],\n",
       "       [1, 0, 0, 0, 1, 1, 0, 1, 0, 0],\n",
       "       [1, 0, 0, 1, 0, 1, 1, 1, 0, 0]])"
      ]
     },
     "execution_count": 17,
     "metadata": {},
     "output_type": "execute_result"
    }
   ],
   "source": [
    "C.S_h"
   ]
  },
  {
   "cell_type": "code",
   "execution_count": null,
   "metadata": {
    "collapsed": true
   },
   "outputs": [],
   "source": []
  }
 ],
 "metadata": {
  "kernelspec": {
   "display_name": "Python 2",
   "language": "python",
   "name": "python2"
  },
  "language_info": {
   "codemirror_mode": {
    "name": "ipython",
    "version": 2
   },
   "file_extension": ".py",
   "mimetype": "text/x-python",
   "name": "python",
   "nbconvert_exporter": "python",
   "pygments_lexer": "ipython2",
   "version": "2.7.14"
  }
 },
 "nbformat": 4,
 "nbformat_minor": 2
}
