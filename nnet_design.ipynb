{
 "cells": [
  {
   "cell_type": "code",
   "execution_count": 1,
   "metadata": {
    "collapsed": true
   },
   "outputs": [],
   "source": [
    "import numpy as np"
   ]
  },
  {
   "cell_type": "code",
   "execution_count": 2,
   "metadata": {
    "collapsed": true
   },
   "outputs": [],
   "source": [
    "from scipy.special import expit as sig # Sigmoid squashing function"
   ]
  },
  {
   "cell_type": "markdown",
   "metadata": {},
   "source": [
    "#### System Parameters"
   ]
  },
  {
   "cell_type": "code",
   "execution_count": 3,
   "metadata": {
    "collapsed": true
   },
   "outputs": [],
   "source": [
    "IPT_SIZE = 4  # Input layer size\n",
    "HDN_SIZE = 10 # Hidden layer size\n",
    "OUT_SIZE = 4  # Ouput Layer\n",
    "LEARN = 0.01  # Learning rate"
   ]
  },
  {
   "cell_type": "markdown",
   "metadata": {},
   "source": [
    "#### State Vectors"
   ]
  },
  {
   "cell_type": "code",
   "execution_count": 4,
   "metadata": {},
   "outputs": [],
   "source": [
    "vi = np.random.rand(IPT_SIZE,1) # Input vector\n",
    "vn = np.random.rand(HDN_SIZE,1) # Hidden layer neurons"
   ]
  },
  {
   "cell_type": "markdown",
   "metadata": {},
   "source": [
    "#### Weights"
   ]
  },
  {
   "cell_type": "code",
   "execution_count": 5,
   "metadata": {
    "collapsed": true
   },
   "outputs": [],
   "source": [
    "Wi = np.random.randint(2,size=(HDN_SIZE,IPT_SIZE)) # Input layer to hidden layer weights"
   ]
  },
  {
   "cell_type": "code",
   "execution_count": 6,
   "metadata": {
    "collapsed": true
   },
   "outputs": [],
   "source": [
    "Wh = np.random.rand(HDN_SIZE,HDN_SIZE) # Hidden layer internal weights"
   ]
  },
  {
   "cell_type": "code",
   "execution_count": 7,
   "metadata": {
    "collapsed": true
   },
   "outputs": [],
   "source": [
    "Si = np.random.randint(2, size=(HDN_SIZE,IPT_SIZE)) # Input to hidden structure (Time indipendent)"
   ]
  },
  {
   "cell_type": "code",
   "execution_count": 8,
   "metadata": {
    "collapsed": true
   },
   "outputs": [],
   "source": [
    "Sh = np.random.randint(2, size=(HDN_SIZE,HDN_SIZE)) # Hiddden layer structure (Time indipendent)"
   ]
  },
  {
   "cell_type": "code",
   "execution_count": 9,
   "metadata": {
    "collapsed": true
   },
   "outputs": [],
   "source": [
    "So = np.random.randint(2, size=(OUT_SIZE,HDN_SIZE)) # Hidden to output structue (Time indipendent)"
   ]
  },
  {
   "cell_type": "markdown",
   "metadata": {},
   "source": [
    "#### Update Algorithm"
   ]
  },
  {
   "cell_type": "code",
   "execution_count": 10,
   "metadata": {},
   "outputs": [],
   "source": [
    "def update():\n",
    "    \"One update step of network, update outputs and weightings\"\n",
    "    global Wi,Wh,Si,Sh,vn\n",
    "    o = sig(np.multiply(np.concatenate((Wi,Wh),axis=1),np.concatenate((Si,Sh),axis=1)).dot(np.concatenate((vi,vn),axis=0)))-0.5\n",
    "    dt = vn-o  # Change in nueron output\n",
    "    Wh = sig(Wh+LEARN*dt.T*dt)-0.5  # Update weights of hidden layer \n",
    "    vn = o"
   ]
  },
  {
   "cell_type": "code",
   "execution_count": 11,
   "metadata": {
    "collapsed": true
   },
   "outputs": [],
   "source": [
    "def read_outputs():\n",
    "    return sig(So.dot(vn))"
   ]
  },
  {
   "cell_type": "code",
   "execution_count": 12,
   "metadata": {},
   "outputs": [],
   "source": [
    "for i in xrange(2): update()"
   ]
  },
  {
   "cell_type": "code",
   "execution_count": 13,
   "metadata": {},
   "outputs": [
    {
     "data": {
      "text/plain": [
       "array([[ 0.6267677 ],\n",
       "       [ 0.60851672],\n",
       "       [ 0.83368022],\n",
       "       [ 0.79277936]])"
      ]
     },
     "execution_count": 13,
     "metadata": {},
     "output_type": "execute_result"
    }
   ],
   "source": [
    "read_outputs()"
   ]
  },
  {
   "cell_type": "code",
   "execution_count": 14,
   "metadata": {},
   "outputs": [
    {
     "data": {
      "text/plain": [
       "array([[ 0.92791979],\n",
       "       [ 0.08803889],\n",
       "       [ 0.9908663 ],\n",
       "       [ 0.70708023]])"
      ]
     },
     "execution_count": 14,
     "metadata": {},
     "output_type": "execute_result"
    }
   ],
   "source": [
    "vi"
   ]
  },
  {
   "cell_type": "code",
   "execution_count": null,
   "metadata": {
    "collapsed": true
   },
   "outputs": [],
   "source": []
  }
 ],
 "metadata": {
  "kernelspec": {
   "display_name": "Python 2",
   "language": "python",
   "name": "python2"
  },
  "language_info": {
   "codemirror_mode": {
    "name": "ipython",
    "version": 2
   },
   "file_extension": ".py",
   "mimetype": "text/x-python",
   "name": "python",
   "nbconvert_exporter": "python",
   "pygments_lexer": "ipython2",
   "version": "2.7.13"
  }
 },
 "nbformat": 4,
 "nbformat_minor": 2
}
